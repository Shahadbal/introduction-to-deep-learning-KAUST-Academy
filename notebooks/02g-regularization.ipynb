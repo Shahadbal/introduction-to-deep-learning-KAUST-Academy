{
  "nbformat": 4,
  "nbformat_minor": 0,
  "metadata": {
    "colab": {
      "provenance": []
    },
    "kernelspec": {
      "name": "python3",
      "display_name": "Python 3"
    },
    "language_info": {
      "name": "python"
    }
  },
  "cells": [
    {
      "cell_type": "code",
      "execution_count": 3,
      "metadata": {
        "id": "sINwITwUZ03P"
      },
      "outputs": [],
      "source": [
        "import numpy as np\n",
        "import pandas as pd\n",
        "from sklearn import model_selection, preprocessing, pipeline\n",
        "import torch\n",
        "from torch import nn, optim, utils"
      ]
    },
    {
      "cell_type": "code",
      "source": [
        "def clip_gradients_(\n",
        "    clip_grad_strategy,\n",
        "    model_fn,\n",
        "    clip_value=None,\n",
        "    error_if_nonfinite=False,\n",
        "    max_norm=None,\n",
        "    norm_type=2.0):\n",
        "    if clip_grad_strategy == \"value\" and clip_value is not None:\n",
        "        nn.utils.clip_grad_value_(\n",
        "            model_fn.parameters(),\n",
        "            clip_value\n",
        "        )\n",
        "    elif clip_grad_strategy == \"norm\" and max_norm is not None:\n",
        "        nn.utils.clip_grad_norm_(\n",
        "            model_fn.parameters(),\n",
        "            max_norm,\n",
        "            norm_type,\n",
        "            error_if_nonfinite\n",
        "        )\n",
        "    elif clip_grad_strategy is None:\n",
        "        pass\n",
        "    else:\n",
        "        raise NotImplementedError()\n",
        "\n",
        "\n",
        "def compute_average_loss(dataloader, loss_fn, model_fn):\n",
        "    total_loss = torch.zeros(1, 1)\n",
        "    for features, targets in dataloader:\n",
        "        predictions = model_fn(features)        \n",
        "        total_loss += loss_fn(predictions, targets)\n",
        "    average_loss = total_loss / len(dataloader)\n",
        "    return average_loss\n",
        "\n",
        "\n",
        "def initialize_linear_layer(\n",
        "    in_features,\n",
        "    out_features,\n",
        "    init_strategy_=nn.init.kaiming_uniform_):\n",
        "    linear_layer = nn.Linear(in_features, out_features)\n",
        "    init_strategy_(linear_layer.weight)\n",
        "    return linear_layer\n",
        "\n",
        "\n",
        "def make_mlp_classifier(\n",
        "    input_size,\n",
        "    hidden_sizes=None,\n",
        "    output_size=2,\n",
        "    activation_fn=None,\n",
        "    init_strategy_=nn.init.kaiming_uniform_,\n",
        "    batch_normalization=False):\n",
        "    modules = []\n",
        "    hidden_sizes = [] if hidden_sizes is None else hidden_sizes\n",
        "    for hidden_size in hidden_sizes:\n",
        "        hidden_layer = initialize_linear_layer(\n",
        "            input_size,\n",
        "            hidden_size,\n",
        "            init_strategy_,\n",
        "        )\n",
        "        modules.append(hidden_layer)\n",
        "        if batch_normalization:\n",
        "            modules.append(nn.BatchNorm1d(hidden_size))\n",
        "        if activation_fn is not None:\n",
        "            modules.append(activation_fn)\n",
        "        input_size=hidden_size\n",
        "    output_layer = initialize_linear_layer(\n",
        "            input_size,\n",
        "            output_size,\n",
        "            init_strategy_,\n",
        "    )\n",
        "    modules.append(output_layer)\n",
        "    modules.append(nn.LogSoftmax(dim=1))\n",
        "    model_fn = nn.Sequential(*modules)\n",
        "    return model_fn, nn.NLLLoss()\n"
      ],
      "metadata": {
        "id": "y1wPPenRyRjV"
      },
      "execution_count": 13,
      "outputs": []
    },
    {
      "cell_type": "code",
      "source": [
        "def fit(\n",
        "    loss_fn,\n",
        "    model_fn,\n",
        "    optimizer,\n",
        "    train_dataloader,\n",
        "    val_dataloader,\n",
        "    clip_grad_strategy=None,\n",
        "    clip_value=None,\n",
        "    error_if_nonfinite=False,\n",
        "    lr_scheduler=None,\n",
        "    log_epochs=1,\n",
        "    max_epochs=1,\n",
        "    max_norm=None,\n",
        "    norm_type=2.0):\n",
        "  \n",
        "    history = {\n",
        "        \"epoch\": [],\n",
        "        \"average_train_loss\": [],\n",
        "        \"average_val_loss\": []\n",
        "    }\n",
        "\n",
        "    for epoch in range(max_epochs):\n",
        "        total_train_loss = torch.zeros(1, 1)\n",
        "        model_fn = model_fn.train()\n",
        "        for features, targets in train_dataloader:\n",
        "            \n",
        "            # forward pass\n",
        "            predictions = model_fn(features)        \n",
        "            loss = loss_fn(predictions, targets)\n",
        "            total_train_loss += loss\n",
        "\n",
        "            # backward pass\n",
        "            loss.backward()\n",
        "            clip_gradients_(\n",
        "                clip_grad_strategy,\n",
        "                model_fn,\n",
        "                clip_value,\n",
        "                error_if_nonfinite,\n",
        "                max_norm,\n",
        "                norm_type\n",
        "            )\n",
        "            optimizer.step()        \n",
        "            optimizer.zero_grad()\n",
        "        \n",
        "        average_train_loss = total_train_loss / len(train_dataloader)\n",
        "        history[\"epoch\"].append(epoch)\n",
        "        history[\"average_train_loss\"].append(average_train_loss.item())\n",
        "\n",
        "        # validation after every training epoch\n",
        "        model_fn = model_fn.eval()\n",
        "        with torch.inference_mode():\n",
        "            average_val_loss = compute_average_loss(\n",
        "                val_dataloader,\n",
        "                loss_fn,\n",
        "                model_fn\n",
        "            )\n",
        "        history[\"average_val_loss\"].append(average_val_loss.item())\n",
        "\n",
        "        # update the learning rate after every training epoch\n",
        "        if lr_scheduler is not None:\n",
        "            lr_scheduler.step()\n",
        "\n",
        "        if epoch % log_epochs == 0:\n",
        "            message = f\"Epoch {epoch}, Average train Loss {average_train_loss.item():.4f}, Average val Loss {average_val_loss.item():.4f}\"\n",
        "            print(message)\n",
        "\n",
        "    history_df = (pd.DataFrame.from_dict(history)\n",
        "                              .set_index(\"epoch\"))\n",
        "    return history_df\n"
      ],
      "metadata": {
        "id": "0TI0-fc2yate"
      },
      "execution_count": 14,
      "outputs": []
    },
    {
      "cell_type": "markdown",
      "source": [
        "## Load the data"
      ],
      "metadata": {
        "id": "BSi-s_qcyjqD"
      }
    },
    {
      "cell_type": "code",
      "source": [
        "INPUT_SIZE = 784\n",
        "OUTPUT_SIZE = 10\n",
        "\n",
        "_train_data = pd.read_csv(\n",
        "    \"./sample_data/mnist_train_small.csv\",\n",
        "    header=None,\n",
        "    names=[\"label\"] + [f\"p{i}\" for i in range(INPUT_SIZE)],\n",
        ")\n",
        "train_data, val_data = model_selection.train_test_split(\n",
        "    _train_data,\n",
        "    test_size=0.1,\n",
        "    stratify=_train_data.loc[:, \"label\"]\n",
        ")\n",
        "\n",
        "test_data = pd.read_csv(\n",
        "    \"./sample_data/mnist_test.csv\",\n",
        "    header=None,\n",
        "    names=[\"label\"] + [f\"p{i}\" for i in range(INPUT_SIZE)],\n",
        ")\n"
      ],
      "metadata": {
        "id": "qkE0og_hyf1Y"
      },
      "execution_count": 15,
      "outputs": []
    },
    {
      "cell_type": "code",
      "source": [
        "features_preprocessor = pipeline.make_pipeline(\n",
        "    preprocessing.MinMaxScaler(),\n",
        "    preprocessing.FunctionTransformer(lambda arr: arr.astype(np.float32)),\n",
        "    preprocessing.FunctionTransformer(lambda arr: torch.from_numpy(arr))\n",
        ")\n",
        "\n",
        "target_preprocessor = pipeline.make_pipeline(\n",
        "    preprocessing.FunctionTransformer(lambda df: df.to_numpy()),\n",
        "    preprocessing.FunctionTransformer(lambda arr: torch.from_numpy(arr))\n",
        ")\n"
      ],
      "metadata": {
        "id": "zE4SkCc0ymHc"
      },
      "execution_count": 16,
      "outputs": []
    },
    {
      "cell_type": "code",
      "source": [
        "BATCH_SIZE = 64\n",
        "NUM_WORKERS = 2\n",
        "\n",
        "# create the training dataset and dataloader\n",
        "train_features_tensor = features_preprocessor.fit_transform(\n",
        "    train_data.drop(\"label\", axis=1)\n",
        ")\n",
        "\n",
        "train_target_tensor = target_preprocessor.fit_transform(\n",
        "    train_data.loc[:, \"label\"]\n",
        ")\n",
        "\n",
        "train_dataset = utils.data.TensorDataset(\n",
        "    train_features_tensor,\n",
        "    train_target_tensor\n",
        ")\n",
        "\n",
        "train_dataloader = utils.data.DataLoader(\n",
        "    train_dataset,\n",
        "    batch_size=BATCH_SIZE,\n",
        "    num_workers=NUM_WORKERS,\n",
        ")\n",
        "\n",
        "# create the validation dataset and dataloader\n",
        "val_features_tensor = features_preprocessor.transform(\n",
        "    val_data.drop(\"label\", axis=1)\n",
        ")\n",
        "\n",
        "val_target_tensor = target_preprocessor.transform(\n",
        "    val_data.loc[:, \"label\"]\n",
        ")\n",
        "\n",
        "val_dataset = utils.data.TensorDataset(\n",
        "    val_features_tensor,\n",
        "    val_target_tensor\n",
        ")\n",
        "\n",
        "val_dataloader = utils.data.DataLoader(\n",
        "    val_dataset,\n",
        "    batch_size=BATCH_SIZE,\n",
        "    num_workers=NUM_WORKERS,\n",
        ")\n",
        "\n",
        "# create the test dataset and dataloader\n",
        "test_features_tensor = features_preprocessor.transform(\n",
        "    test_data.drop(\"label\", axis=1)\n",
        ")\n",
        "\n",
        "test_target_tensor = target_preprocessor.transform(\n",
        "    test_data.loc[:, \"label\"]\n",
        ")\n",
        "\n",
        "test_dataset = utils.data.TensorDataset(\n",
        "    test_features_tensor,\n",
        "    test_target_tensor\n",
        ")\n",
        "\n",
        "test_dataloader = utils.data.DataLoader(\n",
        "    test_dataset,\n",
        "    batch_size=BATCH_SIZE,\n",
        "    num_workers=NUM_WORKERS,\n",
        ")\n"
      ],
      "metadata": {
        "id": "dbgbaABWyoGa"
      },
      "execution_count": 17,
      "outputs": []
    },
    {
      "cell_type": "markdown",
      "source": [
        "# Regularization"
      ],
      "metadata": {
        "id": "OF0bKKfBX8KV"
      }
    },
    {
      "cell_type": "markdown",
      "source": [
        "## L2 Regularization via Weight Decay"
      ],
      "metadata": {
        "id": "OmVz08KGX-6K"
      }
    },
    {
      "cell_type": "markdown",
      "source": [
        "### SGD"
      ],
      "metadata": {
        "id": "-VlqkyQS7rqn"
      }
    },
    {
      "cell_type": "code",
      "source": [
        "HIDDEN_SIZE = 100\n",
        "LEARNING_RATE = 1e-1\n",
        "WEIGHT_DECAY = 1e-2\n",
        "MAX_EPOCHS = 20\n",
        "\n",
        "model_fn, loss_fn = make_mlp_classifier(\n",
        "    input_size=INPUT_SIZE, \n",
        "    hidden_sizes=[HIDDEN_SIZE, HIDDEN_SIZE, HIDDEN_SIZE], \n",
        "    output_size=OUTPUT_SIZE, \n",
        "    activation_fn=nn.SELU(),\n",
        "    init_strategy_=nn.init.xavier_normal_,\n",
        ")\n",
        "\n",
        "optimizer = optim.SGD(\n",
        "    model_fn.parameters(),\n",
        "    lr=LEARNING_RATE,\n",
        "    weight_decay=WEIGHT_DECAY,\n",
        ")\n",
        "lr_scheduler = optim.lr_scheduler.ExponentialLR(optimizer, gamma=0.9) \n",
        "\n",
        "history = fit(\n",
        "    loss_fn,\n",
        "    model_fn,\n",
        "    optimizer,\n",
        "    train_dataloader,\n",
        "    val_dataloader,\n",
        "    lr_scheduler=lr_scheduler,\n",
        "    max_epochs=MAX_EPOCHS\n",
        ")\n",
        "\n",
        "_ = history.plot()"
      ],
      "metadata": {
        "id": "jKT7Vbj6YBpB",
        "colab": {
          "base_uri": "https://localhost:8080/",
          "height": 804
        },
        "outputId": "2387a777-e8d1-4f5a-8a41-54d78bfaefd6"
      },
      "execution_count": 21,
      "outputs": [
        {
          "output_type": "stream",
          "name": "stdout",
          "text": [
            "Epoch 0, Average train Loss 0.4702, Average val Loss 0.6523\n",
            "Epoch 1, Average train Loss 0.3180, Average val Loss 0.5056\n",
            "Epoch 2, Average train Loss 0.2933, Average val Loss 0.4395\n",
            "Epoch 3, Average train Loss 0.2791, Average val Loss 0.3925\n",
            "Epoch 4, Average train Loss 0.2684, Average val Loss 0.3689\n",
            "Epoch 5, Average train Loss 0.2597, Average val Loss 0.3553\n",
            "Epoch 6, Average train Loss 0.2523, Average val Loss 0.3327\n",
            "Epoch 7, Average train Loss 0.2457, Average val Loss 0.3142\n",
            "Epoch 8, Average train Loss 0.2397, Average val Loss 0.2992\n",
            "Epoch 9, Average train Loss 0.2343, Average val Loss 0.2855\n",
            "Epoch 10, Average train Loss 0.2295, Average val Loss 0.2778\n",
            "Epoch 11, Average train Loss 0.2251, Average val Loss 0.2691\n",
            "Epoch 12, Average train Loss 0.2213, Average val Loss 0.2627\n",
            "Epoch 13, Average train Loss 0.2178, Average val Loss 0.2565\n",
            "Epoch 14, Average train Loss 0.2148, Average val Loss 0.2518\n",
            "Epoch 15, Average train Loss 0.2120, Average val Loss 0.2482\n",
            "Epoch 16, Average train Loss 0.2095, Average val Loss 0.2444\n",
            "Epoch 17, Average train Loss 0.2073, Average val Loss 0.2416\n",
            "Epoch 18, Average train Loss 0.2053, Average val Loss 0.2390\n",
            "Epoch 19, Average train Loss 0.2036, Average val Loss 0.2369\n"
          ]
        },
        {
          "output_type": "display_data",
          "data": {
            "text/plain": [
              "<Figure size 640x480 with 1 Axes>"
            ],
            "image/png": "[encoded data removed]"
          },
          "metadata": {}
        }
      ]
    },
    {
      "cell_type": "markdown",
      "source": [
        "### AdamW"
      ],
      "metadata": {
        "id": "gla-oa7O7nE1"
      }
    },
    {
      "cell_type": "code",
      "source": [
        "optim.AdamW?"
      ],
      "metadata": {
        "id": "EBeyFDPl74vi"
      },
      "execution_count": 23,
      "outputs": []
    },
    {
      "cell_type": "code",
      "source": [
        "model_fn, loss_fn = make_mlp_classifier(\n",
        "    input_size=INPUT_SIZE, \n",
        "    hidden_sizes=[HIDDEN_SIZE, HIDDEN_SIZE, HIDDEN_SIZE], \n",
        "    output_size=OUTPUT_SIZE, \n",
        "    activation_fn=nn.SELU(),\n",
        "    init_strategy_=nn.init.xavier_normal_,\n",
        ")\n",
        "\n",
        "optimizer = optim.AdamW(\n",
        "    model_fn.parameters(),\n",
        "    lr=LEARNING_RATE,\n",
        "    weight_decay=WEIGHT_DECAY,\n",
        ")\n",
        "lr_scheduler = optim.lr_scheduler.ExponentialLR(optimizer, gamma=0.9) \n",
        "\n",
        "history = fit(\n",
        "    loss_fn,\n",
        "    model_fn,\n",
        "    optimizer,\n",
        "    train_dataloader,\n",
        "    val_dataloader,\n",
        "    lr_scheduler=lr_scheduler,\n",
        "    max_epochs=MAX_EPOCHS\n",
        ")\n",
        "\n",
        "_ = history.plot()"
      ],
      "metadata": {
        "colab": {
          "base_uri": "https://localhost:8080/",
          "height": 804
        },
        "id": "uOHUi5e07AjH",
        "outputId": "d801e38f-fe36-40d7-c5fa-d776ddc7a08e"
      },
      "execution_count": 22,
      "outputs": [
        {
          "output_type": "stream",
          "name": "stdout",
          "text": [
            "Epoch 0, Average train Loss 7.5067, Average val Loss 1.1653\n",
            "Epoch 1, Average train Loss 0.7703, Average val Loss 0.7386\n",
            "Epoch 2, Average train Loss 0.4546, Average val Loss 0.5158\n",
            "Epoch 3, Average train Loss 0.4203, Average val Loss 0.5653\n",
            "Epoch 4, Average train Loss 0.4979, Average val Loss 1.3490\n",
            "Epoch 5, Average train Loss 0.6195, Average val Loss 0.8220\n",
            "Epoch 6, Average train Loss 0.4152, Average val Loss 0.5968\n",
            "Epoch 7, Average train Loss 0.4918, Average val Loss 10.9690\n",
            "Epoch 8, Average train Loss 0.3571, Average val Loss 10.9019\n",
            "Epoch 9, Average train Loss 0.2876, Average val Loss 7.2811\n",
            "Epoch 10, Average train Loss 0.3061, Average val Loss 5.9665\n",
            "Epoch 11, Average train Loss 0.2691, Average val Loss 1.8835\n",
            "Epoch 12, Average train Loss 0.2825, Average val Loss 3.6636\n",
            "Epoch 13, Average train Loss 0.2523, Average val Loss 3.4825\n",
            "Epoch 14, Average train Loss 0.2493, Average val Loss 1.5854\n",
            "Epoch 15, Average train Loss 0.2329, Average val Loss 1.3501\n",
            "Epoch 16, Average train Loss 0.1964, Average val Loss 1.0621\n",
            "Epoch 17, Average train Loss 0.1647, Average val Loss 0.8699\n",
            "Epoch 18, Average train Loss 0.1653, Average val Loss 0.5911\n",
            "Epoch 19, Average train Loss 0.1441, Average val Loss 0.3738\n"
          ]
        },
        {
          "output_type": "display_data",
          "data": {
            "text/plain": [
              "<Figure size 640x480 with 1 Axes>"
            ],
            "image/png": "[encoded data removed]"
          },
          "metadata": {}
        }
      ]
    },
    {
      "cell_type": "markdown",
      "source": [
        "## Regularization via explicit penalty"
      ],
      "metadata": {
        "id": "8ToXJada83kr"
      }
    },
    {
      "cell_type": "code",
      "source": [
        "def fit(\n",
        "    loss_fn,\n",
        "    model_fn,\n",
        "    optimizer,\n",
        "    train_dataloader,\n",
        "    val_dataloader,\n",
        "    clip_grad_strategy=None,\n",
        "    clip_value=None,\n",
        "    error_if_nonfinite=False,\n",
        "    lr_scheduler=None,\n",
        "    log_epochs=1,\n",
        "    max_epochs=1,\n",
        "    max_norm=None,\n",
        "    norm_type=2.0,\n",
        "    penalty_fn=None,\n",
        "    eta=1e-2):\n",
        "  \n",
        "    history = {\n",
        "        \"epoch\": [],\n",
        "        \"average_train_loss\": [],\n",
        "        \"average_val_loss\": []\n",
        "    }\n",
        "\n",
        "    for epoch in range(max_epochs):\n",
        "        total_train_loss = torch.zeros(1, 1)\n",
        "        model_fn = model_fn.train()\n",
        "        for features, targets in train_dataloader:\n",
        "            \n",
        "            # forward pass\n",
        "            predictions = model_fn(features)        \n",
        "            loss = loss_fn(predictions, targets)\n",
        "            total_train_loss += loss\n",
        "\n",
        "            # add a penalty term\n",
        "            if penalty_fn is not None:\n",
        "                cost = loss + eta * penalty_fn(model_fn.parameters())\n",
        "            else:\n",
        "                cost = loss\n",
        "\n",
        "            # backward pass\n",
        "            cost.backward()\n",
        "            clip_gradients_(\n",
        "                clip_grad_strategy,\n",
        "                model_fn,\n",
        "                clip_value,\n",
        "                error_if_nonfinite,\n",
        "                max_norm,\n",
        "                norm_type\n",
        "            )\n",
        "            optimizer.step()        \n",
        "            optimizer.zero_grad()\n",
        "        \n",
        "        average_train_loss = total_train_loss / len(train_dataloader)\n",
        "        history[\"epoch\"].append(epoch)\n",
        "        history[\"average_train_loss\"].append(average_train_loss.item())\n",
        "\n",
        "        # validation after every training epoch\n",
        "        model_fn = model_fn.eval()\n",
        "        with torch.inference_mode():\n",
        "            average_val_loss = compute_average_loss(\n",
        "                val_dataloader,\n",
        "                loss_fn,\n",
        "                model_fn\n",
        "            )\n",
        "        history[\"average_val_loss\"].append(average_val_loss.item())\n",
        "\n",
        "        # update the learning rate after every training epoch\n",
        "        if lr_scheduler is not None:\n",
        "            lr_scheduler.step()\n",
        "\n",
        "        if epoch % log_epochs == 0:\n",
        "            message = f\"Epoch {epoch}, Average train Loss {average_train_loss.item():.4f}, Average val Loss {average_val_loss.item():.4f}\"\n",
        "            print(message)\n",
        "\n",
        "    history_df = (pd.DataFrame.from_dict(history)\n",
        "                              .set_index(\"epoch\"))\n",
        "    return history_df\n"
      ],
      "metadata": {
        "id": "GN_KSYxA856v"
      },
      "execution_count": 25,
      "outputs": []
    },
    {
      "cell_type": "code",
      "source": [
        "def elastic_net_penalty_fn(parameters, alpha):\n",
        "    params_tensor = nn.utils.parameters_to_vector(parameters)\n",
        "    l1_regularization = torch.norm(params_tensor, 1)\n",
        "    l2_regularization = torch.norm(params_tensor, 2)\n",
        "    penalty = alpha * l1_regularization + (1 - alpha) * l2_regularization\n",
        "    return penalty\n"
      ],
      "metadata": {
        "id": "gt2hBvK_93id"
      },
      "execution_count": 39,
      "outputs": []
    },
    {
      "cell_type": "code",
      "source": [
        "model_fn, loss_fn = make_mlp_classifier(\n",
        "    input_size=INPUT_SIZE, \n",
        "    hidden_sizes=[HIDDEN_SIZE, HIDDEN_SIZE, HIDDEN_SIZE], \n",
        "    output_size=OUTPUT_SIZE, \n",
        "    activation_fn=nn.SELU(),\n",
        "    init_strategy_=nn.init.xavier_normal_,\n",
        ")\n",
        "\n",
        "optimizer = optim.SGD(\n",
        "    model_fn.parameters(),\n",
        "    lr=LEARNING_RATE,\n",
        ")\n",
        "lr_scheduler = optim.lr_scheduler.ExponentialLR(optimizer, gamma=0.9) \n",
        "\n",
        "history = fit(\n",
        "    loss_fn,\n",
        "    model_fn,\n",
        "    optimizer,\n",
        "    train_dataloader,\n",
        "    val_dataloader,\n",
        "    lr_scheduler=lr_scheduler,\n",
        "    max_epochs=MAX_EPOCHS,\n",
        "    penalty_fn=lambda params: elastic_net_penalty_fn(params, alpha=0.1),\n",
        "    eta=1e-2\n",
        ")\n",
        "\n",
        "_ = history.plot()"
      ],
      "metadata": {
        "colab": {
          "base_uri": "https://localhost:8080/",
          "height": 804
        },
        "id": "1OS22DCM93kz",
        "outputId": "99f34aad-b82e-4794-b070-86abfec19f9f"
      },
      "execution_count": 40,
      "outputs": [
        {
          "output_type": "stream",
          "name": "stdout",
          "text": [
            "Epoch 0, Average train Loss 0.4754, Average val Loss 0.8515\n",
            "Epoch 1, Average train Loss 0.3569, Average val Loss 0.9421\n",
            "Epoch 2, Average train Loss 0.3604, Average val Loss 0.9524\n",
            "Epoch 3, Average train Loss 0.3579, Average val Loss 0.8305\n",
            "Epoch 4, Average train Loss 0.3499, Average val Loss 0.7447\n",
            "Epoch 5, Average train Loss 0.3406, Average val Loss 0.6453\n",
            "Epoch 6, Average train Loss 0.3312, Average val Loss 0.5790\n",
            "Epoch 7, Average train Loss 0.3225, Average val Loss 0.5549\n",
            "Epoch 8, Average train Loss 0.3149, Average val Loss 0.4913\n",
            "Epoch 9, Average train Loss 0.3080, Average val Loss 0.4389\n",
            "Epoch 10, Average train Loss 0.3020, Average val Loss 0.4147\n",
            "Epoch 11, Average train Loss 0.2966, Average val Loss 0.3908\n",
            "Epoch 12, Average train Loss 0.2921, Average val Loss 0.3780\n",
            "Epoch 13, Average train Loss 0.2880, Average val Loss 0.3625\n",
            "Epoch 14, Average train Loss 0.2843, Average val Loss 0.3503\n",
            "Epoch 15, Average train Loss 0.2811, Average val Loss 0.3403\n",
            "Epoch 16, Average train Loss 0.2783, Average val Loss 0.3288\n",
            "Epoch 17, Average train Loss 0.2757, Average val Loss 0.3236\n",
            "Epoch 18, Average train Loss 0.2734, Average val Loss 0.3164\n",
            "Epoch 19, Average train Loss 0.2714, Average val Loss 0.3113\n"
          ]
        },
        {
          "output_type": "display_data",
          "data": {
            "text/plain": [
              "<Figure size 640x480 with 1 Axes>"
            ],
            "image/png": "[encoded data removed]"
          },
          "metadata": {}
        }
      ]
    },
    {
      "cell_type": "markdown",
      "source": [
        "## Dropout"
      ],
      "metadata": {
        "id": "HzNfhyOoYCS5"
      }
    },
    {
      "cell_type": "markdown",
      "source": [
        "### Dropout on the input layer"
      ],
      "metadata": {
        "id": "uBmb-lMJkanf"
      }
    },
    {
      "cell_type": "code",
      "source": [
        "def make_mlp_classifier(\n",
        "    input_size,\n",
        "    hidden_sizes=None,\n",
        "    output_size=2,\n",
        "    activation_fn=None,\n",
        "    init_strategy_=nn.init.kaiming_uniform_,\n",
        "    batch_normalization=False,\n",
        "    input_layer_dropout=False,\n",
        "    dropout_prob=None):\n",
        "    modules = []\n",
        "    if input_layer_dropout and dropout_prob is not None:\n",
        "        modules.append(nn.Dropout(dropout_prob))\n",
        "    hidden_sizes = [] if hidden_sizes is None else hidden_sizes\n",
        "    for hidden_size in hidden_sizes:\n",
        "        hidden_layer = initialize_linear_layer(\n",
        "            input_size,\n",
        "            hidden_size,\n",
        "            init_strategy_,\n",
        "        )\n",
        "        modules.append(hidden_layer)\n",
        "        if batch_normalization:\n",
        "            modules.append(nn.BatchNorm1d(hidden_size))\n",
        "        if activation_fn is not None:\n",
        "            modules.append(activation_fn)\n",
        "        input_size=hidden_size\n",
        "    output_layer = initialize_linear_layer(\n",
        "            input_size,\n",
        "            output_size,\n",
        "            init_strategy_,\n",
        "    )\n",
        "    modules.append(output_layer)\n",
        "    modules.append(nn.LogSoftmax(dim=1))\n",
        "    model_fn = nn.Sequential(*modules)\n",
        "    return model_fn, nn.NLLLoss()\n"
      ],
      "metadata": {
        "id": "0-pHa-UyzySq"
      },
      "execution_count": 9,
      "outputs": []
    },
    {
      "cell_type": "code",
      "source": [
        "model_fn, loss_fn = make_mlp_classifier(\n",
        "    input_size=INPUT_SIZE, \n",
        "    hidden_sizes=[HIDDEN_SIZE, HIDDEN_SIZE, HIDDEN_SIZE], \n",
        "    output_size=OUTPUT_SIZE, \n",
        "    activation_fn=nn.SELU(),\n",
        "    init_strategy_=nn.init.xavier_normal_,\n",
        "    input_layer_dropout=True,\n",
        "    dropout_prob=0.5\n",
        ")\n",
        "\n",
        "optimizer = optim.SGD(model_fn.parameters(), lr=LEARNING_RATE)\n",
        "lr_scheduler = optim.lr_scheduler.ExponentialLR(optimizer, gamma=0.9) \n",
        "\n",
        "history = fit(\n",
        "    loss_fn,\n",
        "    model_fn,\n",
        "    optimizer,\n",
        "    train_dataloader,\n",
        "    val_dataloader,\n",
        "    lr_scheduler=lr_scheduler,\n",
        "    max_epochs=MAX_EPOCHS\n",
        ")\n",
        "\n",
        "_ = history.plot()"
      ],
      "metadata": {
        "colab": {
          "base_uri": "https://localhost:8080/",
          "height": 804
        },
        "id": "ev-isylOzi1x",
        "outputId": "f4953572-7f20-4962-d05f-9e1a8f62ac3d"
      },
      "execution_count": 10,
      "outputs": [
        {
          "output_type": "stream",
          "name": "stdout",
          "text": [
            "Epoch 0, Average train Loss 0.6711, Average val Loss 0.4234\n",
            "Epoch 1, Average train Loss 0.4345, Average val Loss 0.3408\n",
            "Epoch 2, Average train Loss 0.3514, Average val Loss 0.2867\n",
            "Epoch 3, Average train Loss 0.2967, Average val Loss 0.2033\n",
            "Epoch 4, Average train Loss 0.2743, Average val Loss 0.1919\n",
            "Epoch 5, Average train Loss 0.2475, Average val Loss 0.1952\n",
            "Epoch 6, Average train Loss 0.2363, Average val Loss 0.1797\n",
            "Epoch 7, Average train Loss 0.2228, Average val Loss 0.1701\n",
            "Epoch 8, Average train Loss 0.2084, Average val Loss 0.1591\n",
            "Epoch 9, Average train Loss 0.2019, Average val Loss 0.1579\n",
            "Epoch 10, Average train Loss 0.1895, Average val Loss 0.1560\n",
            "Epoch 11, Average train Loss 0.1849, Average val Loss 0.1447\n",
            "Epoch 12, Average train Loss 0.1822, Average val Loss 0.1481\n",
            "Epoch 13, Average train Loss 0.1807, Average val Loss 0.1443\n",
            "Epoch 14, Average train Loss 0.1711, Average val Loss 0.1433\n",
            "Epoch 15, Average train Loss 0.1638, Average val Loss 0.1446\n",
            "Epoch 16, Average train Loss 0.1621, Average val Loss 0.1376\n",
            "Epoch 17, Average train Loss 0.1627, Average val Loss 0.1415\n",
            "Epoch 18, Average train Loss 0.1633, Average val Loss 0.1420\n",
            "Epoch 19, Average train Loss 0.1580, Average val Loss 0.1392\n"
          ]
        },
        {
          "output_type": "display_data",
          "data": {
            "text/plain": [
              "<Figure size 640x480 with 1 Axes>"
            ],
            "image/png": "[encoded data removed]"
          },
          "metadata": {}
        }
      ]
    },
    {
      "cell_type": "markdown",
      "source": [
        "### Dropout on hidden layers"
      ],
      "metadata": {
        "id": "HUxgYodaksnJ"
      }
    },
    {
      "cell_type": "code",
      "source": [
        "def make_mlp_classifier(\n",
        "    input_size,\n",
        "    hidden_sizes=None,\n",
        "    output_size=2,\n",
        "    activation_fn=None,\n",
        "    init_strategy_=nn.init.kaiming_uniform_,\n",
        "    batch_normalization=False,\n",
        "    input_layer_dropout=False,\n",
        "    hidden_layer_dropout=False,\n",
        "    dropout_prob=None):\n",
        "    modules = []\n",
        "    if input_layer_dropout and dropout_prob is not None:\n",
        "        modules.append(nn.Dropout(dropout_prob))\n",
        "    hidden_sizes = [] if hidden_sizes is None else hidden_sizes\n",
        "    for hidden_size in hidden_sizes:\n",
        "        hidden_layer = initialize_linear_layer(\n",
        "            input_size,\n",
        "            hidden_size,\n",
        "            init_strategy_,\n",
        "        )\n",
        "        modules.append(hidden_layer)\n",
        "        if batch_normalization:\n",
        "            modules.append(nn.BatchNorm1d(hidden_size))\n",
        "        if activation_fn is not None:\n",
        "            modules.append(activation_fn)\n",
        "        if hidden_layer_dropout and dropout_prob is not None:\n",
        "            modules.append(nn.Dropout(dropout_prob))\n",
        "        input_size=hidden_size\n",
        "    output_layer = initialize_linear_layer(\n",
        "            input_size,\n",
        "            output_size,\n",
        "            init_strategy_,\n",
        "    )\n",
        "    modules.append(output_layer)\n",
        "    modules.append(nn.LogSoftmax(dim=1))\n",
        "    model_fn = nn.Sequential(*modules)\n",
        "    return model_fn, nn.NLLLoss()\n"
      ],
      "metadata": {
        "id": "NU84gJtx0tqx"
      },
      "execution_count": 41,
      "outputs": []
    },
    {
      "cell_type": "code",
      "source": [
        "model_fn, loss_fn = make_mlp_classifier(\n",
        "    input_size=INPUT_SIZE, \n",
        "    hidden_sizes=[HIDDEN_SIZE, HIDDEN_SIZE, HIDDEN_SIZE], \n",
        "    output_size=OUTPUT_SIZE, \n",
        "    activation_fn=nn.SELU(),\n",
        "    init_strategy_=nn.init.xavier_normal_,\n",
        "    hidden_layer_dropout=True,\n",
        "    dropout_prob=0.5\n",
        ")\n",
        "\n",
        "optimizer = optim.SGD(model_fn.parameters(), lr=LEARNING_RATE)\n",
        "lr_scheduler = optim.lr_scheduler.ExponentialLR(optimizer, gamma=0.9) \n",
        "\n",
        "history = fit(\n",
        "    loss_fn,\n",
        "    model_fn,\n",
        "    optimizer,\n",
        "    train_dataloader,\n",
        "    val_dataloader,\n",
        "    lr_scheduler=lr_scheduler,\n",
        "    max_epochs=MAX_EPOCHS\n",
        ")\n",
        "\n",
        "_ = history.plot()"
      ],
      "metadata": {
        "id": "b04eCA8LkrvE",
        "colab": {
          "base_uri": "https://localhost:8080/",
          "height": 804
        },
        "outputId": "35a4f1bc-880e-4f4d-e1ab-42372e689b70"
      },
      "execution_count": 42,
      "outputs": [
        {
          "output_type": "stream",
          "name": "stdout",
          "text": [
            "Epoch 0, Average train Loss 1.0277, Average val Loss 0.5058\n",
            "Epoch 1, Average train Loss 0.6571, Average val Loss 0.5487\n",
            "Epoch 2, Average train Loss 0.5812, Average val Loss 0.4929\n",
            "Epoch 3, Average train Loss 0.5264, Average val Loss 0.3390\n",
            "Epoch 4, Average train Loss 0.5083, Average val Loss 0.4504\n",
            "Epoch 5, Average train Loss 0.4793, Average val Loss 0.3571\n",
            "Epoch 6, Average train Loss 0.4612, Average val Loss 0.3090\n",
            "Epoch 7, Average train Loss 0.4443, Average val Loss 0.2893\n",
            "Epoch 8, Average train Loss 0.4188, Average val Loss 0.2750\n",
            "Epoch 9, Average train Loss 0.4187, Average val Loss 0.2926\n",
            "Epoch 10, Average train Loss 0.4002, Average val Loss 0.2672\n",
            "Epoch 11, Average train Loss 0.4002, Average val Loss 0.2663\n",
            "Epoch 12, Average train Loss 0.3861, Average val Loss 0.2663\n",
            "Epoch 13, Average train Loss 0.3796, Average val Loss 0.2569\n",
            "Epoch 14, Average train Loss 0.3722, Average val Loss 0.2545\n",
            "Epoch 15, Average train Loss 0.3711, Average val Loss 0.2522\n",
            "Epoch 16, Average train Loss 0.3650, Average val Loss 0.2517\n",
            "Epoch 17, Average train Loss 0.3621, Average val Loss 0.2503\n",
            "Epoch 18, Average train Loss 0.3536, Average val Loss 0.2446\n",
            "Epoch 19, Average train Loss 0.3569, Average val Loss 0.2467\n"
          ]
        },
        {
          "output_type": "display_data",
          "data": {
            "text/plain": [
              "<Figure size 640x480 with 1 Axes>"
            ],
            "image/png": "[encoded data removed]"
          },
          "metadata": {}
        }
      ]
    },
    {
      "cell_type": "markdown",
      "source": [
        "## Monte Carlo Dropout"
      ],
      "metadata": {
        "id": "LyfjZKnqYlDQ"
      }
    },
    {
      "cell_type": "code",
      "source": [
        "def enable_dropout(module):\n",
        "    if type(module) == nn.Dropout:\n",
        "        module.train()\n",
        "    else:\n",
        "        pass"
      ],
      "metadata": {
        "id": "UVsYvJIkYnNM"
      },
      "execution_count": 43,
      "outputs": []
    },
    {
      "cell_type": "code",
      "source": [
        "PREDICTION_SIZE = 10\n",
        "\n",
        "model_fn = model_fn.eval()\n",
        "average_test_losses = torch.zeros(PREDICTION_SIZE)\n",
        "\n",
        "with torch.inference_mode():\n",
        "    model_fn.apply(enable_dropout)\n",
        "    for i in range(PREDICTION_SIZE):\n",
        "        average_test_loss = compute_average_loss(\n",
        "            test_dataloader,\n",
        "            loss_fn,\n",
        "            model_fn\n",
        "        )\n",
        "        average_test_losses[i] = average_test_loss.item()"
      ],
      "metadata": {
        "id": "-IF8zoeYDhxW"
      },
      "execution_count": 49,
      "outputs": []
    },
    {
      "cell_type": "code",
      "source": [
        "average_test_losses.mean()"
      ],
      "metadata": {
        "colab": {
          "base_uri": "https://localhost:8080/"
        },
        "id": "kSCGvLUJEs8-",
        "outputId": "b02e96f8-68fb-406d-fb59-b0598241855f"
      },
      "execution_count": 52,
      "outputs": [
        {
          "output_type": "execute_result",
          "data": {
            "text/plain": [
              "tensor(0.3877)"
            ]
          },
          "metadata": {},
          "execution_count": 52
        }
      ]
    },
    {
      "cell_type": "code",
      "source": [
        "average_test_losses.std()"
      ],
      "metadata": {
        "colab": {
          "base_uri": "https://localhost:8080/"
        },
        "id": "OM20JPMJE7fw",
        "outputId": "764f015e-fe1a-4db8-daab-d1c036667797"
      },
      "execution_count": 53,
      "outputs": [
        {
          "output_type": "execute_result",
          "data": {
            "text/plain": [
              "tensor(0.0064)"
            ]
          },
          "metadata": {},
          "execution_count": 53
        }
      ]
    },
    {
      "cell_type": "code",
      "source": [],
      "metadata": {
        "id": "AwMc-JWXF2rc"
      },
      "execution_count": null,
      "outputs": []
    }
  ]
}